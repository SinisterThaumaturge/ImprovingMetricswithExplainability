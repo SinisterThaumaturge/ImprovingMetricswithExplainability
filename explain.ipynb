{
 "cells": [
  {
   "cell_type": "code",
   "execution_count": 9,
   "metadata": {},
   "outputs": [],
   "source": [
    "from bert_score.scorer import BERTScorer\n",
    "from lime.lime_text import LimeTextExplainer\n",
    "import tqdm\n",
    "import numpy as np\n",
    "from utils import NpEncoder\n",
    "import json\n",
    "from scipy.stats.mstats import gmean\n",
    "from numpy import mean\n",
    "from evaluation_utils import evaluate_sentence_level\n",
    "import argparse\n",
    "from mt_utils import (find_corpus, \n",
    "                      load_data, \n",
    "                      load_metadata, \n",
    "                      print_sys_level_correlation, \n",
    "                      print_seg_level_correlation,\n",
    "                      print_seg_level_correlation_wmt17,\n",
    "                      output_MT_correlation,\n",
    "                      df_append)\n",
    "import os"
   ]
  },
  {
   "cell_type": "code",
   "execution_count": 12,
   "metadata": {},
   "outputs": [],
   "source": [
    "dataset = find_corpus(\"WMT17\")\n",
    "manual = tree()\n",
    "for l in lines:\n",
    "        l = l.replace(\"nmt-smt-hybrid\",\"nmt-smt-hybr\")\n",
    "        c = l.split()\n",
    "     \n",
    "        lp, data, system, sid, score = c[0], c[1], c[2], c[3], c[4]    \n",
    "        c = system.split(\"+\")\n",
    "        system = c[0]\n",
    "    \n",
    "        manual[lp][system][sid] = score"
   ]
  },
  {
   "cell_type": "code",
   "execution_count": 17,
   "metadata": {},
   "outputs": [
    {
     "name": "stderr",
     "output_type": "stream",
     "text": [
      "100%|██████████| 4/4 [00:00<00:00, 333.73it/s]\n",
      "100%|██████████| 11/11 [00:00<00:00, 495.34it/s]\n",
      "100%|██████████| 6/6 [00:00<00:00, 390.23it/s]\n",
      "100%|██████████| 9/9 [00:00<00:00, 905.57it/s]\n",
      "100%|██████████| 9/9 [00:00<00:00, 790.70it/s]\n",
      "100%|██████████| 10/10 [00:00<00:00, 647.43it/s]\n",
      "100%|██████████| 16/16 [00:00<00:00, 1194.38it/s]\n"
     ]
    }
   ],
   "source": [
    "include_path = 'data/WMT17/'\n",
    "for pair in dataset.items():\n",
    "  reference_path, lp = pair\n",
    "  references = load_data(os.path.join( include_path +'references/', reference_path))\n",
    "  src, tgt = lp.split('-')\n",
    "  source_path = reference_path.replace('ref', 'src')\n",
    "  source_path = source_path.split('.')[0] + '.' + src  \n",
    "  source = load_data(os.path.join(include_path +'source', source_path))\n",
    "  all_meta_data = load_metadata(os.path.join(include_path + 'system-outputs', lp))\n",
    "  for i in tqdm.tqdm(range(len(all_meta_data))):\n",
    "        path, testset, lp, system = all_meta_data[i]\n",
    "        keys = [ int(i) -1 for i in manual[lp][system].keys()]\n",
    "        translations = load_data(path)\n",
    "        translations =  \n"
   ]
  },
  {
   "cell_type": "code",
   "execution_count": 4,
   "metadata": {},
   "outputs": [
    {
     "data": {
      "text/plain": [
       "'LP DATA SYSTEM SID HUMAN'"
      ]
     },
     "execution_count": 4,
     "metadata": {},
     "output_type": "execute_result"
    }
   ],
   "source": [
    "f = \"data/WMT17/DA-seglevel.csv\"\n",
    "lines = [line.rstrip('\\n') for line in open(f)]\n",
    "lines.pop(0)"
   ]
  },
  {
   "cell_type": "code",
   "execution_count": 5,
   "metadata": {},
   "outputs": [],
   "source": [
    "from collections import defaultdict\n",
    "tree = lambda: defaultdict(tree)"
   ]
  },
  {
   "cell_type": "code",
   "execution_count": 7,
   "metadata": {},
   "outputs": [],
   "source": []
  }
 ],
 "metadata": {
  "interpreter": {
   "hash": "c536765888925113768443a5f369da2580327b8baa13e2b94436c1b0fe296407"
  },
  "kernelspec": {
   "display_name": "Python 3.9.7 ('deeplearning')",
   "language": "python",
   "name": "python3"
  },
  "language_info": {
   "codemirror_mode": {
    "name": "ipython",
    "version": 3
   },
   "file_extension": ".py",
   "mimetype": "text/x-python",
   "name": "python",
   "nbconvert_exporter": "python",
   "pygments_lexer": "ipython3",
   "version": "3.9.7"
  },
  "orig_nbformat": 4
 },
 "nbformat": 4,
 "nbformat_minor": 2
}
